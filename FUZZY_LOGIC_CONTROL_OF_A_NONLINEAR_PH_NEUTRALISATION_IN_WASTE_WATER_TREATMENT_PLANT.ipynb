{
  "nbformat": 4,
  "nbformat_minor": 0,
  "metadata": {
    "colab": {
      "name": "FUZZY LOGIC CONTROL OF A NONLINEAR PH-NEUTRALISATION IN WASTE  WATER TREATMENT PLANT.ipynb",
      "provenance": [],
      "authorship_tag": "ABX9TyMcjNdRNrVxN0VRhY0g94Vc",
      "include_colab_link": true
    },
    "kernelspec": {
      "name": "python3",
      "display_name": "Python 3"
    },
    "language_info": {
      "name": "python"
    }
  },
  "cells": [
    {
      "cell_type": "markdown",
      "metadata": {
        "id": "view-in-github",
        "colab_type": "text"
      },
      "source": [
        "<a href=\"https://colab.research.google.com/github/ssharanyab/ph-Nutralisation/blob/main/FUZZY_LOGIC_CONTROL_OF_A_NONLINEAR_PH_NEUTRALISATION_IN_WASTE_WATER_TREATMENT_PLANT.ipynb\" target=\"_parent\"><img src=\"https://colab.research.google.com/assets/colab-badge.svg\" alt=\"Open In Colab\"/></a>"
      ]
    },
    {
      "cell_type": "code",
      "metadata": {
        "id": "qxkPEzMY9e7m"
      },
      "source": [
        ""
      ],
      "execution_count": null,
      "outputs": []
    }
  ]
}